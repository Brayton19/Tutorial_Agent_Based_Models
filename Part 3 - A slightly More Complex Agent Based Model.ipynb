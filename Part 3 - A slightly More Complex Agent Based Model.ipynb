{
 "cells": [
  {
   "cell_type": "markdown",
   "metadata": {},
   "source": [
    "# Part 3: A Slightly More Complex Agent Based Model \n",
    "\n",
    "##### Authors: Bill Thompson (biltho@mpi.nl) and Limor Raviv (limor.raviv@mpi.nl) \n",
    "Please let us know if you have any comments, suggestions or questions regarding this notebook. \n",
    "\n",
    "---------------\n",
    "\n",
    "## Summary\n",
    "In this third tutorial, we will build a more complex simulation of agents using the commands in the second notebook, making our agents and their interactions a bit more ecologically valid. \n",
    "\n",
    "The major differences between these models are:\n",
    "1. Instead of having agents with simple binary representaions (either [a] or [i]), agents in this model will have a distribution around their prefered vowel.\n",
    "2. The interactions in this model will be double-sided, so that both agents change their behavior after interacting.\n",
    "3. Agents' personalities will be less rigid, allowing for more intersting changes during interaction: stubborn agents will align a little bit (instead of not at all), while flexible agents will align to a greater extent (but not fully).\n",
    "\n",
    "We will make multiple simulations of inertactions under different conditions, and see how this affects the distribution of vowels in the population. \n",
    "\n",
    "\n",
    "-------------- \n",
    "\n",
    "\n",
    "### 1. Setting up the network\n",
    "First, let's create lists containing the possible biases for our agents. In this more complex model, agents have a range of possible vowels they can produce, which is distributed normally around a mean value on a single dimension. In this exmaple, a mean of \"-1\" will correspond to [a] and a mean of \"1\" will corresponf to [i]."
   ]
  },
  {
   "cell_type": "code",
   "execution_count": 3,
   "metadata": {
    "collapsed": true
   },
   "outputs": [],
   "source": [
    "# Set the model Parameters\n",
    "\n",
    "vowel_means = [-1., 1.] # set possible inital means for the distributions\n",
    "\n",
    "personalities = ['F', 'S']"
   ]
  },
  {
   "cell_type": "code",
   "execution_count": 4,
   "metadata": {
    "collapsed": true
   },
   "outputs": [],
   "source": [
    "# Create a function that makes a single agent based\n",
    "\n",
    "def make_agent(vowel_mean, personality):\n",
    "    return [vowel_mean, personality]\n"
   ]
  },
  {
   "cell_type": "code",
   "execution_count": 5,
   "metadata": {},
   "outputs": [
    {
     "data": {
      "text/plain": [
       "[[-1.0, 'S'],\n",
       " [1.0, 'F'],\n",
       " [1.0, 'S'],\n",
       " [1.0, 'S'],\n",
       " [-1.0, 'F'],\n",
       " [-1.0, 'S'],\n",
       " [1.0, 'S'],\n",
       " [1.0, 'S']]"
      ]
     },
     "execution_count": 5,
     "metadata": {},
     "output_type": "execute_result"
    }
   ],
   "source": [
    "# Create a function that makes a population of random agents\n",
    "\n",
    "import random\n",
    "\n",
    "def make_population(N):\n",
    "    \n",
    "    population = []\n",
    "    \n",
    "    for i in range(N):\n",
    "        \n",
    "        m = random.randint(0,1)\n",
    "        \n",
    "        p = random.randint(0,1)\n",
    "        \n",
    "        agent = make_agent(vowel_means[m], personalities[p])\n",
    "        \n",
    "        population.append(agent)\n",
    "\n",
    "    return population\n",
    "\n",
    "\n",
    "# Check that this works by making a population of 8 agents\n",
    "make_population(8)\n"
   ]
  },
  {
   "cell_type": "markdown",
   "metadata": {},
   "source": [
    "### 2. Introducing more complex interations\n",
    "So far, this looked similar to our simple model, but now it's time to introduce some new features."
   ]
  },
  {
   "cell_type": "markdown",
   "metadata": {},
   "source": [
    "Because we want our agents to have more complex representations, we also need to write a function that selects a specific vowel from the distribution implied by he agent's mean,  for each interaction."
   ]
  },
  {
   "cell_type": "code",
   "execution_count": 83,
   "metadata": {},
   "outputs": [
    {
     "name": "stdout",
     "output_type": "stream",
     "text": [
      "The agent's mean was -1.0\n",
      "The agent's chosen utterance is -1.16257882793\n"
     ]
    }
   ],
   "source": [
    "# Create a function that chooses a variant from a distribution centered around the agent's mean vowel\n",
    "\n",
    "from copy import deepcopy \n",
    "from numpy.random import normal\n",
    "import numpy\n",
    "\n",
    "def choose_utterance(agent):   # sample from a normal distribution with SD=0.25 and mean of the teacher\n",
    "    agent_utterance=normal(agent[0],.25)\n",
    "    return agent_utterance\n",
    "\n",
    "# Let's check that this works\n",
    "# You can run this multiple times to see different chosen utternaces for different agents\n",
    "\n",
    "pop=make_population(4)\n",
    "vowel = choose_utterance(pop[0])\n",
    "print \"The agent's mean was\", pop[0][0]\n",
    "print \"The agent's chosen utterance is\", vowel"
   ]
  },
  {
   "cell_type": "markdown",
   "metadata": {},
   "source": [
    "In this new model, being flexible means that the agent shifts their vowel towards the other agents' utterance (by half of the distance between the mean and the utterance). This just means flexible agents adapt by going half way towrads the other agent. "
   ]
  },
  {
   "cell_type": "markdown",
   "metadata": {},
   "source": [
    "In addition, stubborn agents are not completey stubborn and are only adapting by a little bit (by 1/10 of the distance between their mean and the other agent's utterance)."
   ]
  },
  {
   "cell_type": "markdown",
   "metadata": {},
   "source": [
    "Let's try to write this function that changes the agents means according to their biased personalities, using simple conditions:"
   ]
  },
  {
   "cell_type": "code",
   "execution_count": 16,
   "metadata": {},
   "outputs": [
    {
     "name": "stdout",
     "output_type": "stream",
     "text": [
      "[0.8, 'S']\n",
      "[0.0, 'F']\n"
     ]
    }
   ],
   "source": [
    "# Create a function that shifts the means of a flexible agent\n",
    "\n",
    "def learn(utterance,agent):\n",
    "    if agent[1] == \"F\":\n",
    "        new_mean = (agent[0] + utterance) / 2.\n",
    "    else:\n",
    "        difference = abs(utterance-agent[0])\n",
    "        if utterance > agent[0]:\n",
    "            new_mean = agent[0] + (difference/10.)\n",
    "        else:\n",
    "            new_mean = agent[0] - (difference/10.)\n",
    "    agent[0] = deepcopy(new_mean)\n",
    "\n",
    "\n",
    "# Check that this works\n",
    "\n",
    "# Create two agents with a mean of 1\n",
    "stb_agent = [1,'S']\n",
    "flex_agent = [1,'F']\n",
    "\n",
    "# See what happens when each agent learns from an untterance of -1 (the other vowel)\n",
    "learn(-1,stb_agent)\n",
    "learn(-1,flex_agent)\n",
    "\n",
    "print stb_agent\n",
    "print flex_agent"
   ]
  },
  {
   "cell_type": "markdown",
   "metadata": {},
   "source": [
    "Now, we want both agents to update their representations after an interaction. This means that instead of having single-sided interactions with a listener and a producer, we now have an exchange of productions between the two agents in which each can learn from each other... "
   ]
  },
  {
   "cell_type": "markdown",
   "metadata": {},
   "source": [
    "For this, we'll write a new function that updates both agents based on their current utterances:"
   ]
  },
  {
   "cell_type": "code",
   "execution_count": 29,
   "metadata": {
    "collapsed": true
   },
   "outputs": [],
   "source": [
    "# Create a function in which both agents generate utterances and can learn from each other \n",
    "\n",
    "def interact((agent1,agent2)): \n",
    "    \n",
    "    agent1_utterance = choose_utterance(agent1)\n",
    "    agent2_utterance = choose_utterance(agent2)\n",
    "    \n",
    "    if agent1[0] == agent2[0]:\n",
    "        pass # do nothing if the two agents have the same distributions \n",
    "    else:\n",
    "        learn(agent2_utterance,agent1)\n",
    "        learn(agent1_utterance, agent2)\n",
    "    #return agent1_utterance, agent2_utterance, agent1, agent2\n",
    "        \n",
    "\n",
    "# Check if it works by uncommenting the \"return\" comment above \n",
    "\n",
    "interact(([-1,'F'],[1,'S']))"
   ]
  },
  {
   "cell_type": "markdown",
   "metadata": {},
   "source": [
    "### 3. Simulation time!\n",
    "Great! Now we have a double-sided interaction, and we can write a function that chooses random pairs from a populations, and then simulate multiple interactions between different agents."
   ]
  },
  {
   "cell_type": "code",
   "execution_count": 18,
   "metadata": {
    "collapsed": true
   },
   "outputs": [],
   "source": [
    "# Create a function that chooses two agents from a population\n",
    "from numpy.random import choice\n",
    "\n",
    "def choose_pair(population):\n",
    "    i = random.randint(0, len(population) - 1) # phyton counts from 0, so pop(8) is an error\n",
    "    j = random.randint(0, len(population) - 1)\n",
    "    \n",
    "    while i == j:\n",
    "        j = random.randint(0, len(population) - 1)\n",
    "        \n",
    "    return population[i], population[j]\n",
    "\n",
    "# Create a function that simulates k interactions in a population of n agents\n",
    "\n",
    "def simulate(n, k):\n",
    "    \n",
    "    initial_population = make_population(n)\n",
    "    population=deepcopy(initial_population)\n",
    "    \n",
    "    for i in range(k):\n",
    "        \n",
    "        pair = choose_pair(population)\n",
    "        \n",
    "        interact(pair)\n",
    "    \n",
    "    return initial_population, population"
   ]
  },
  {
   "cell_type": "markdown",
   "metadata": {},
   "source": [
    "Let's test that our simulation is working by looking at the results. Feel free to change the number of agents and the number of interactions as you please."
   ]
  },
  {
   "cell_type": "code",
   "execution_count": 132,
   "metadata": {},
   "outputs": [
    {
     "name": "stdout",
     "output_type": "stream",
     "text": [
      "The initial population was [[1.0, 'F'], [-1.0, 'F'], [1.0, 'S'], [-1.0, 'F'], [-1.0, 'S'], [-1.0, 'F'], [-1.0, 'F'], [1.0, 'F'], [1.0, 'S'], [-1.0, 'F'], [-1.0, 'S'], [-1.0, 'S'], [1.0, 'S'], [-1.0, 'S'], [-1.0, 'F'], [-1.0, 'S'], [1.0, 'F'], [1.0, 'F'], [1.0, 'S'], [-1.0, 'S']]\n",
      "The new population is [[-0.07866503863251557, 'F'], [0.04896398924587536, 'F'], [-0.3001408330776343, 'S'], [-0.039954924576553405, 'F'], [-0.12945597757816416, 'S'], [-0.2015649483689273, 'F'], [-0.1001187425645372, 'F'], [-0.41211419600372917, 'F'], [-0.23110445510906127, 'S'], [-0.3597747876594809, 'F'], [-0.21584563604160767, 'S'], [-0.2541813507520245, 'S'], [-0.17227383200141466, 'S'], [-0.18588065754292563, 'S'], [-0.13561999273076236, 'F'], [-0.3251284281921554, 'S'], [-0.10932799791411132, 'F'], [0.06234286706059899, 'F'], [-0.16335107317676326, 'S'], [-0.20130332231362194, 'S']]\n"
     ]
    },
    {
     "data": {
      "image/png": "[encoded data removed]",
      "text/plain": [
       "<matplotlib.figure.Figure at 0x12428b70>"
      ]
     },
     "metadata": {},
     "output_type": "display_data"
    }
   ],
   "source": [
    "# Run a simulation with 8 agents and 5000 interactions\n",
    "\n",
    "initial_population, new_population = simulate(20,5000)\n",
    "\n",
    "print \"The initial population was\", initial_population\n",
    "print \"The new population is\", new_population\n",
    "\n",
    "# Plot the agents' initial and final means\n",
    "\n",
    "%matplotlib inline \n",
    "# put plot in the notebook\n",
    "import matplotlib.pyplot as plt # importing a plotting library\n",
    "\n",
    "initial_means = []\n",
    "final_means = []\n",
    "\n",
    "for agent in range(len(initial_population)):\n",
    "    initial_means.append(initial_population[agent][0])\n",
    "    final_means.append(new_population[agent][0])\n",
    "    \n",
    "plt.hist(initial_means, label='initial means')\n",
    "plt.hist(final_means, label='final means')\n",
    "plt.legend(loc='upper center')\n",
    "plt.show()  "
   ]
  },
  {
   "cell_type": "markdown",
   "metadata": {},
   "source": [
    "In the plot above, the clustering of organge agents (final population) shows convergence, while the spread distribution (blue, initial population) implies divergence.\n",
    "\n",
    "In most simulations, you'll see convergence."
   ]
  },
  {
   "cell_type": "markdown",
   "metadata": {},
   "source": [
    "But since as you've seen, each simulation yields different outcomes in terms of which variant agents have converged on, we need to run multiple simulations and compute their mean to get a more reliable picture of what's happening. So let's make a function that computes the final means of several simulations."
   ]
  },
  {
   "cell_type": "code",
   "execution_count": 26,
   "metadata": {
    "collapsed": true
   },
   "outputs": [],
   "source": [
    "# Create a function to compute the means of the vowels in the population\n",
    "\n",
    "def compute_mean(population):\n",
    "    t=0.\n",
    "    for agent in population:\n",
    "        t += agent[0]\n",
    "    return t/len(population)\n",
    "\n",
    "# Create a function that runs multiuple simulations and returns the final mean of each of them\n",
    "\n",
    "def batch_simulate(n,k,s): #n=pop size, k=no. of interactions, s=no. of simulations\n",
    "    batch_final=[]\n",
    "    for i in range(s):\n",
    "        initial_population, new_population = simulate(n, k)\n",
    "        new_proportion=compute_mean(new_population)\n",
    "        batch_final.append(new_proportion)\n",
    "    return batch_final\n",
    "        "
   ]
  },
  {
   "cell_type": "markdown",
   "metadata": {},
   "source": [
    "So what's going on? Let's run some simulations! This might take a few minutes to complete."
   ]
  },
  {
   "cell_type": "code",
   "execution_count": 27,
   "metadata": {},
   "outputs": [
    {
     "data": {
      "text/plain": [
       "Text(0,0.5,u'Number of Simulations')"
      ]
     },
     "execution_count": 27,
     "metadata": {},
     "output_type": "execute_result"
    },
    {
     "data": {
      "image/png": "[encoded data removed]",
      "text/plain": [
       "<matplotlib.figure.Figure at 0x9a579b0>"
      ]
     },
     "metadata": {},
     "output_type": "display_data"
    }
   ],
   "source": [
    "# Run 500 simulations\n",
    "results = batch_simulate(20,5000,500)\n",
    "\n",
    "# Plot the result\n",
    "import seaborn as sns # make the plot look better\n",
    "plt.hist(results, edgecolor = 'white')\n",
    "plt.xlabel('Final Population Mean Vowel')\n",
    "plt.ylabel('Number of Simulations')"
   ]
  },
  {
   "cell_type": "markdown",
   "metadata": {
    "collapsed": true
   },
   "source": [
    "What you can see in the historgram above is that there is a nice normal distribution around 0. That is, **in most simulations, the population converges on the mean between the two initial variants**. This result is exactly what we expect given prior studies with similar models."
   ]
  },
  {
   "cell_type": "markdown",
   "metadata": {},
   "source": [
    "So let's probe this model a bit more by looking at effect of stubborn agents in the poopulation. "
   ]
  },
  {
   "cell_type": "markdown",
   "metadata": {},
   "source": [
    "As we did in the second tutorial, we will see if the number of stubborn agents affects the trend of convergence towards the mean. We'll do this by rewriting the functions defined above so that they created biased populations where we control the number of stubborn agents:"
   ]
  },
  {
   "cell_type": "code",
   "execution_count": 81,
   "metadata": {
    "collapsed": true
   },
   "outputs": [],
   "source": [
    "# Modify the function to make populations of N agents with a given number of stubborn agents (st)\n",
    "\n",
    "def make_population_biased(N,st):\n",
    "    \n",
    "    population = []\n",
    "    \n",
    "    for i in range(st):\n",
    "        \n",
    "        m = random.randint(0,1)\n",
    "        \n",
    "        agent = make_agent(vowel_means[m], personalities[1])\n",
    "        \n",
    "        population.append(agent)\n",
    "    \n",
    "    for i in range(N-st):\n",
    "        \n",
    "        m = random.randint(0,1)\n",
    "        \n",
    "        agent = make_agent(vowel_means[m], personalities[0])\n",
    "        \n",
    "        population.append(agent)\n",
    "\n",
    "    return population\n",
    "\n",
    "\n",
    "\n",
    "# Modify the function so that it calls our biased population \n",
    "\n",
    "def simulate_biased(n, k, st):  #st=no. of stubborn\n",
    "    \n",
    "    initial_population = make_population_biased(n,st)\n",
    "    population=deepcopy(initial_population)\n",
    "    \n",
    "    for i in range(k):\n",
    "        \n",
    "        pair = choose_pair(population)\n",
    "        \n",
    "        interact(pair)\n",
    "        \n",
    "    return initial_population, population"
   ]
  },
  {
   "cell_type": "markdown",
   "metadata": {},
   "source": [
    "We can check that our changes work by simulating one population first. You can change the number of stubborn agents to see how it affects the results."
   ]
  },
  {
   "cell_type": "code",
   "execution_count": 93,
   "metadata": {},
   "outputs": [
    {
     "name": "stdout",
     "output_type": "stream",
     "text": [
      "The initial population was [[-1.0, 'S'], [-1.0, 'S'], [-1.0, 'S'], [-1.0, 'S'], [1.0, 'S'], [1.0, 'S'], [1.0, 'S'], [-1.0, 'S'], [1.0, 'S'], [-1.0, 'S'], [-1.0, 'S'], [-1.0, 'S'], [-1.0, 'S'], [1.0, 'S'], [1.0, 'S'], [1.0, 'F'], [-1.0, 'F'], [1.0, 'F'], [1.0, 'F'], [1.0, 'F']]\n",
      "The new population is [[-0.3210847847394562, 'S'], [-0.3320432553415883, 'S'], [-0.31897996404847195, 'S'], [-0.21381756840188915, 'S'], [-0.2925919701829233, 'S'], [-0.39259493656970684, 'S'], [-0.3825242168813835, 'S'], [-0.26190094139372644, 'S'], [-0.26630879568451576, 'S'], [-0.4071937449531068, 'S'], [-0.33502525936126043, 'S'], [-0.4153402264619839, 'S'], [-0.326031361460032, 'S'], [-0.29168352819657234, 'S'], [-0.37646425703403186, 'S'], [0.07934487191202322, 'F'], [-0.10411522307271945, 'F'], [0.032165609611911415, 'F'], [-0.34370947972633625, 'F'], [-0.15387162029383072, 'F']]\n"
     ]
    },
    {
     "data": {
      "image/png": "[encoded data removed]",
      "text/plain": [
       "<matplotlib.figure.Figure at 0x136feda0>"
      ]
     },
     "metadata": {},
     "output_type": "display_data"
    }
   ],
   "source": [
    "# Simulate a population with 15 stubborn agents\n",
    "old_pop, new_pop =simulate_biased(20,5000,15)\n",
    "\n",
    "print \"The initial population was\", old_pop\n",
    "print \"The new population is\", new_pop\n",
    "\n",
    "# Plot the agents' initial and final means\n",
    "\n",
    "initial_means = []\n",
    "final_means = []\n",
    "\n",
    "for agent in range(len(old_pop)):\n",
    "    initial_means.append(old_pop[agent][0])\n",
    "    final_means.append(new_pop[agent][0])\n",
    "    \n",
    "plt.hist(initial_means, label='initial means')\n",
    "plt.hist(final_means, label='final means')\n",
    "plt.legend(loc='upper center')\n",
    "plt.show()  "
   ]
  },
  {
   "cell_type": "markdown",
   "metadata": {},
   "source": [
    "Because we want to look at the degree of convergence and how it's affects by stubborn agents, we need a measure to capture variance, like SD or entropy. For now, we will write a function that stores the SDs of the final means' distribution in multiple simulations. This will give us an idea of how diverged the population was after interacting. "
   ]
  },
  {
   "cell_type": "code",
   "execution_count": 123,
   "metadata": {
    "collapsed": true
   },
   "outputs": [],
   "source": [
    "# Create a function to compute the standard deviation of the vowels in the population\n",
    "\n",
    "def compute_SD(population):\n",
    "    pop_means=[]\n",
    "    for agent in population:\n",
    "        pop_means.append(deepcopy(agent[0]))\n",
    "    pop_SD= numpy.std(pop_means)\n",
    "    return pop_SD\n",
    "\n",
    "\n",
    "def batch_simulate_biased(n,k,s): #n-pop size, k=no. of interactions, s=no. of simulations for each bias\n",
    "    \n",
    "    all_results=[]\n",
    "    \n",
    "    possible_sts = [0, int(n / 10.), int(n / 4.), int(n / 2.), int(3*n / 4.), n]\n",
    "    # This time, we'll test 0%, 10%, 25%, 50%, 75% and 100% stubborn agents\n",
    "    \n",
    "    for st in possible_sts:\n",
    "        \n",
    "        print st\n",
    "    \n",
    "        current_results = []  # print the progress of the simulations \n",
    "    \n",
    "        for i in range(s):\n",
    "            initial_population, new_population = simulate_biased(n, k, st)\n",
    "            sd = compute_SD(new_population)\n",
    "            current_results.append(sd)\n",
    "        \n",
    "        all_results.append([st,current_results])\n",
    "    \n",
    "    return all_results\n"
   ]
  },
  {
   "cell_type": "markdown",
   "metadata": {},
   "source": [
    "Now, let's run a few simulations with different proportion of stubborn agents, and see what happens:"
   ]
  },
  {
   "cell_type": "code",
   "execution_count": 139,
   "metadata": {},
   "outputs": [
    {
     "name": "stdout",
     "output_type": "stream",
     "text": [
      "0\n",
      "20\n",
      "50\n",
      "100\n",
      "150\n",
      "200\n",
      "[[0, [0.17030724892353283, 0.16052266945944318, 0.18912744547079471, 0.16991828631174258, 0.20880827953388784, 0.16819466302745445, 0.18120091129932647, 0.16679860644912045, 0.18476956334080435, 0.19480286466726807, 0.17957474652285318, 0.15770236952552244, 0.16777965130500108, 0.16457067814412815, 0.17037313920995223, 0.17467792364912541, 0.16289963070502927, 0.18781747268819943, 0.15397986669036051, 0.1833533938723762]], [20, [0.1678775406174593, 0.17406708989551653, 0.15929736310782305, 0.1609487151376269, 0.17381846086558611, 0.16753427937976723, 0.17510724578606454, 0.16903354005014948, 0.17111123905489975, 0.150094277714759, 0.16429449702057725, 0.14961737757172297, 0.1720342370478127, 0.15825648170298129, 0.162191630128833, 0.16305180429139549, 0.18171266707294978, 0.17447737549687076, 0.16524721962116709, 0.16926951668342582]], [50, [0.12708627612351994, 0.15684876883023852, 0.15457657564906899, 0.14616975311066971, 0.14797144071367554, 0.13727697301452155, 0.16147967600564683, 0.14783223295420456, 0.14454903639136038, 0.15694457083332183, 0.15698432398683165, 0.1482041477806352, 0.14374109168227389, 0.15338013549962998, 0.14427336077835778, 0.14467699108486151, 0.14676179409844764, 0.15798186286373084, 0.13632654668585367, 0.14083922901141402]], [100, [0.12426015988202742, 0.10796492704059373, 0.11321376498560332, 0.12274491023800213, 0.11411501235468818, 0.11915467688021278, 0.1249676487862382, 0.10541672627661916, 0.13147386346722614, 0.12650635354759168, 0.1301386224197234, 0.1118444702016165, 0.12630425363195302, 0.131087658589496, 0.13477108290833256, 0.11931125724605884, 0.12327221675814073, 0.11058079431445939, 0.12019432065199075, 0.1348595797378824]], [150, [0.1138033740873291, 0.090070369115371127, 0.089167056212009904, 0.093086755882580821, 0.096333056635639833, 0.091067382752990617, 0.086715119420916295, 0.098918950146060988, 0.093472414350108807, 0.079778788208868051, 0.095939959041613829, 0.090436970915213355, 0.097946992214262923, 0.10504605381882354, 0.087052104312985018, 0.090773018505425698, 0.090268930049631657, 0.085945564152956747, 0.10734689609821577, 0.082766471483597087]], [200, [0.060904810462349301, 0.058295044637077596, 0.058150224305098072, 0.061484112120319491, 0.056012967044957271, 0.055409793399951668, 0.064492660523170334, 0.059373603764760453, 0.066103324138228559, 0.054812332094866627, 0.062528166477745742, 0.057539046095372783, 0.060442823660154361, 0.060063587697772328, 0.062160651874774722, 0.059587089629138598, 0.061833755609681781, 0.061331919255945971, 0.055438003728830905, 0.059733576401445464]]]\n"
     ]
    }
   ],
   "source": [
    "# Run 20 simulations of each stubborness proportions in a community of 200 agents \n",
    "results = batch_simulate_biased(200,5000,20)\n",
    "\n",
    "\n",
    "# Show the results\n",
    "print results"
   ]
  },
  {
   "cell_type": "code",
   "execution_count": 140,
   "metadata": {},
   "outputs": [
    {
     "data": {
      "image/png": "[encoded data removed]",
      "text/plain": [
       "<matplotlib.figure.Figure at 0x14ea7748>"
      ]
     },
     "metadata": {},
     "output_type": "display_data"
    }
   ],
   "source": [
    "# Plot the results of the simulations \n",
    "        \n",
    "plt.hist(results[0][1], label='no stubborn agents',edgecolor = 'white')\n",
    "plt.hist(results[1][1], label='20 stubborn agent',edgecolor = 'white')\n",
    "plt.hist(results[2][1], label='50 stubborn agent',edgecolor = 'white')\n",
    "plt.hist(results[3][1], label='100 stubborn agent',edgecolor = 'white')\n",
    "plt.hist(results[4][1], label='150 stubborn agent',edgecolor = 'white')\n",
    "plt.hist(results[5][1], label='200 stubborn agent',edgecolor = 'white')\n",
    "plt.legend(loc='best')\n",
    "plt.xlabel('SD of Final Vowel Distribution in the Population ')\n",
    "plt.ylabel('Number of Simulations')     \n",
    "plt.show()  "
   ]
  },
  {
   "cell_type": "markdown",
   "metadata": {},
   "source": [
    "As you can see, there is a clear relationshop between the degree of convergence and the number of stubborn agents in the population. The results suggest that populations with more flexible agents show higher variance, while populations with more stubborn agents show less variance and greater convergence. However, the SD in all condition is rather low (<0.2) suggesting that all population converged to some degree. However, populations that comprise of *only* stubborn agents reached the highest convergece."
   ]
  },
  {
   "cell_type": "markdown",
   "metadata": {},
   "source": [
    "## Wrapping up\n",
    "So you did it! You finished the tutorial and made a model with more complex agents and complex interactions. "
   ]
  },
  {
   "cell_type": "markdown",
   "metadata": {},
   "source": [
    "Hopefully, now you feel confident enough to change different parts of the code, or add your own new features. "
   ]
  },
  {
   "cell_type": "markdown",
   "metadata": {},
   "source": [
    "Good luck with your model!"
   ]
  },
  {
   "cell_type": "markdown",
   "metadata": {},
   "source": [
    "Bill & Limor"
   ]
  }
 ],
 "metadata": {
  "kernelspec": {
   "display_name": "Python 2",
   "language": "python",
   "name": "python2"
  },
  "language_info": {
   "codemirror_mode": {
    "name": "ipython",
    "version": 2
   },
   "file_extension": ".py",
   "mimetype": "text/x-python",
   "name": "python",
   "nbconvert_exporter": "python",
   "pygments_lexer": "ipython2",
   "version": "2.7.11"
  }
 },
 "nbformat": 4,
 "nbformat_minor": 2
}
