{
 "cells": [
  {
   "cell_type": "markdown",
   "metadata": {},
   "source": [
    "# Part 3: A Slightly More Complex Agent Based Model \n",
    "\n",
    "##### Authors: Bill Thompson (biltho@mpi.nl) and Limor Raviv (limor.raviv@mpi.nl) \n",
    "Please let us know if you have any comments, suggestions or questions regarding this notebook. \n",
    "\n",
    "---------------\n",
    "\n",
    "## Summary\n",
    "In this third tutorial, we will build a more complex network of agents using the commands in the second notebook, making our agents and their interactions a bit more ecologically valid. \n",
    "\n",
    "The major differences between these models are:\n",
    "1. Instead of having agents with simple binary representaions (either [a] or [i]), agents in this model will have a distrution oround their prefered vowel.\n",
    "2. The interactions in this model will be double-sided, so that both agents change their behavior after interacting.\n",
    "3. Agents' prior personalities will be less rigid, allowing for more intersting changes during interaction: stubborn agents will align a little bit (instead of not at all), while flexible agents will aligh to a greater extent (but not fully).\n",
    "\n",
    "We will make multiple simulations of inrtactions under different conditions, and see how this \n",
    "\n",
    "\n",
    "-------------- \n",
    "\n",
    "\n",
    "### 1. Setting the network\n",
    "First, let's create lists containing the possible priors for our agents. In this more complex model, agents have a range of possible vowels they can produce, which is distributed normally around a prior mean. In this exmaple, a prior mean of \"-1\" will correspond to [a] and a prior mean of \"1\" will corresponf to [i]."
   ]
  },
  {
   "cell_type": "code",
   "execution_count": 2,
   "metadata": {
    "collapsed": true
   },
   "outputs": [],
   "source": [
    "# Set the model Parameters\n",
    "\n",
    "vowel_means = [-1., 1.] # set possible inital means for the distributions\n",
    "\n",
    "personalities = ['F', 'S']"
   ]
  },
  {
   "cell_type": "code",
   "execution_count": 4,
   "metadata": {
    "collapsed": true
   },
   "outputs": [],
   "source": [
    "# Create a function that makes a single agent based on given priors\n",
    "\n",
    "def make_agent(vowel_mean, personality):\n",
    "    return [vowel_mean, personality]\n"
   ]
  },
  {
   "cell_type": "code",
   "execution_count": 6,
   "metadata": {},
   "outputs": [
    {
     "data": {
      "text/plain": [
       "[[-1.0, 'S'],\n",
       " [1.0, 'S'],\n",
       " [1.0, 'S'],\n",
       " [1.0, 'F'],\n",
       " [-1.0, 'S'],\n",
       " [-1.0, 'F'],\n",
       " [-1.0, 'F'],\n",
       " [-1.0, 'S']]"
      ]
     },
     "execution_count": 6,
     "metadata": {},
     "output_type": "execute_result"
    }
   ],
   "source": [
    "# Create a function that makes a population of random agents\n",
    "\n",
    "import random\n",
    "\n",
    "def make_population(N):\n",
    "    \n",
    "    population = []\n",
    "    \n",
    "    for i in range(N):\n",
    "        \n",
    "        m = random.randint(0,1)\n",
    "        \n",
    "        p = random.randint(0,1)\n",
    "        \n",
    "        agent = make_agent(vowel_means[m], personalities[p])\n",
    "        \n",
    "        population.append(agent)\n",
    "\n",
    "    return population\n",
    "\n",
    "\n",
    "# Check that this works by making a population of 8 agents\n",
    "make_population(8)\n"
   ]
  },
  {
   "cell_type": "markdown",
   "metadata": {},
   "source": [
    "### 2. Introducing more complex interations\n",
    "So far, this looked similar to our simple model, but now it's time to introduce some new features:"
   ]
  },
  {
   "cell_type": "markdown",
   "metadata": {},
   "source": [
    "Because we want our agents to have more complex representations, we also need to write a function that selects a specific vowel from the prior distribution for each interaction."
   ]
  },
  {
   "cell_type": "code",
   "execution_count": 14,
   "metadata": {},
   "outputs": [
    {
     "name": "stdout",
     "output_type": "stream",
     "text": [
      "The agent's prior mean was 1.0\n",
      "The agent's chosen utterance is 1.25637583804\n"
     ]
    }
   ],
   "source": [
    "# Create a function that chooses a variant from a distribution centered around the agent's prior vowel\n",
    "\n",
    "from copy import deepcopy \n",
    "from numpy.random import normal\n",
    "\n",
    "def choose_utterance(agent):   #chose from a normal distribution with SD=0.25 and mean of the teacher\n",
    "    agent_utterance=normal(agent[0],.25)\n",
    "    return agent_utterance\n",
    "\n",
    "# Let's check that this works\n",
    "# You can run this multiple times to see different chosen utternaces for different agents\n",
    "\n",
    "pop=make_population(4)\n",
    "vowel = choose_utterance(pop[0])\n",
    "print \"The agent's prior mean was\", pop[0][0]\n",
    "print \"The agent's chosen utterance is\", vowel"
   ]
  },
  {
   "cell_type": "markdown",
   "metadata": {},
   "source": [
    "In this new model, being flexible means that the agent shifts their prior mean towards the other agents' utterance by half the distance between their prior mean and that utterance. Basically, this means flexible agents adapt by going half way towrads the other agent. "
   ]
  },
  {
   "cell_type": "markdown",
   "metadata": {},
   "source": [
    "In addition, stubborn agents are not completey stubborn and are only adapting their priors by a little bit (by 1/10 of the distance between their prior mean and the other agent's utterance)."
   ]
  },
  {
   "cell_type": "markdown",
   "metadata": {},
   "source": [
    "Let's try to write this function using simple conditions:"
   ]
  },
  {
   "cell_type": "code",
   "execution_count": 27,
   "metadata": {},
   "outputs": [
    {
     "name": "stdout",
     "output_type": "stream",
     "text": [
      "0.1\n",
      "0.5\n"
     ]
    }
   ],
   "source": [
    "# Create a function that shifts the means of a flexible agent\n",
    "\n",
    "def shift_prior_flexible(utterance,mean):\n",
    "    new_mean = (mean + utterance) / 2.\n",
    "    return new_mean\n",
    "\n",
    "    \n",
    "# Create a function that shifts the means of a stubborn agent\n",
    "\n",
    "def shift_prior_stubborn(utterance,mean): \n",
    "    difference = abs(utterance-mean)\n",
    "    if utterance > mean:\n",
    "        new_mean = mean + (difference/10.) \n",
    "        return new_mean\n",
    "    else:\n",
    "        new_mean = mean - (difference/10.)\n",
    "        return new_mean\n",
    "\n",
    "# Check that this works\n",
    "\n",
    "stb_agent = shift_prior_stubborn(1,0)\n",
    "flex_agent = shift_prior_flexible(1,0)\n",
    "\n",
    "print stb_agent\n",
    "print flex_agent"
   ]
  },
  {
   "cell_type": "markdown",
   "metadata": {},
   "source": [
    "Now, we want both agents to update their priors after interaction. This means that instead of having single-sided interactions with a listener and a producer, we now have an exchange productions between the two agents and write a function in which both agents can learn from each other. "
   ]
  },
  {
   "cell_type": "markdown",
   "metadata": {},
   "source": [
    "For this, we'll write a new function called *\"interact and learn\"*, that updates the agents based on their current utterances and prior personalities:"
   ]
  },
  {
   "cell_type": "code",
   "execution_count": 43,
   "metadata": {
    "collapsed": true
   },
   "outputs": [],
   "source": [
    "# Create a function in which both agents generate utterances and can learn from each other \n",
    "\n",
    "def interact_and_learn((agent1,agent2)): \n",
    "    \n",
    "    agent1_utterance = choose_utterance(agent1)\n",
    "    agent2_utterance = choose_utterance(agent2)\n",
    "    \n",
    "    if agent1[0] == agent2[0]:\n",
    "        pass # do nothing if the two agents have the same distributions \n",
    "    else:\n",
    "        if agent1[1]=='S':\n",
    "            agent1_new_mean = shift_prior_stubborn(agent2_utterance,agent1[0])\n",
    "            agent1[0] = deepcopy(agent1_new_mean)\n",
    "        else:\n",
    "            agent1_new_mean = shift_prior_flexible(agent2_utterance,agent1[0])\n",
    "            agent1[0] = deepcopy(agent1_new_mean)\n",
    "        if agent2[1]=='S':\n",
    "            agent2_new_mean = shift_prior_stubborn(agent1_utterance,agent2[0])\n",
    "            agent2[0] = deepcopy(agent2_new_mean)\n",
    "        else:\n",
    "            agent2_new_mean = shift_prior_flexible(agent1_utterance,agent1[0])\n",
    "            agent2[0] = deepcopy(agent2_new_mean)\n",
    "    #return agent1_utterance, agent2_utterance, agent1, agent2\n",
    "        \n",
    "\n",
    "# Check if it works by uncommenting the \"return\" comment above \n",
    "\n",
    "interact_and_learn(([-1,'F'],[1,'S']))"
   ]
  },
  {
   "cell_type": "markdown",
   "metadata": {},
   "source": [
    "### 3. Simulation time!\n",
    "Great! Now we have a double-sided interaction, and we can write a function that chooses random pairs from a populations, and then simulate multiple interactions between different agents."
   ]
  },
  {
   "cell_type": "code",
   "execution_count": 45,
   "metadata": {
    "collapsed": true
   },
   "outputs": [],
   "source": [
    "# Create a function that chooses two agents from a population\n",
    "from numpy.random import choice\n",
    "\n",
    "def choose_pair(population):\n",
    "    i = random.randint(0, len(population) - 1) # phyton counts from 0, so pop(8) is an error\n",
    "    j = random.randint(0, len(population) - 1)\n",
    "    \n",
    "    while i == j:\n",
    "        j = random.randint(0, len(population) - 1)\n",
    "        \n",
    "    return population[i], population[j]\n",
    "\n",
    "# Create a function that simulates k interactions in a population of n agents\n",
    "\n",
    "def simulate(n, k):\n",
    "    \n",
    "    initial_population = make_population(n)\n",
    "    population=deepcopy(initial_population)\n",
    "    \n",
    "    for i in range(k):\n",
    "        \n",
    "        pair = choose_pair(population)\n",
    "        \n",
    "        interact_and_learn(pair)\n",
    "    \n",
    "    return initial_population, population"
   ]
  },
  {
   "cell_type": "markdown",
   "metadata": {},
   "source": [
    "Let's test that our simulation is working by looking at the results of one simulations. Feel free to change the number of agents and the number of interactions as you please."
   ]
  },
  {
   "cell_type": "code",
   "execution_count": 116,
   "metadata": {},
   "outputs": [
    {
     "name": "stdout",
     "output_type": "stream",
     "text": [
      "The initial population was [[-1.0, 'F'], [1.0, 'F'], [1.0, 'F'], [1.0, 'S'], [1.0, 'S'], [1.0, 'F'], [-1.0, 'F'], [-1.0, 'S'], [1.0, 'S'], [1.0, 'F'], [1.0, 'S'], [1.0, 'S'], [-1.0, 'S'], [-1.0, 'S'], [1.0, 'S'], [1.0, 'S'], [1.0, 'F'], [1.0, 'F'], [-1.0, 'F'], [1.0, 'S']]\n",
      "The new population is [[0.43571447512324324, 'F'], [0.17161331449990186, 'F'], [0.30181598748785565, 'F'], [0.34194304506980133, 'S'], [0.39391602410117665, 'S'], [0.2533581624636128, 'F'], [0.30649704166476066, 'F'], [0.2688511032917069, 'S'], [0.3298850458021868, 'S'], [0.35605791337677395, 'F'], [0.34318914642463155, 'S'], [0.32634041950030973, 'S'], [0.29580660079936644, 'S'], [0.36121446557389136, 'S'], [0.30723651703847227, 'S'], [0.29373695967833385, 'S'], [0.35776050560155415, 'F'], [0.09985570027715829, 'F'], [0.1601903669251654, 'F'], [0.3213465204115025, 'S']]\n"
     ]
    },
    {
     "data": {
      "image/png": "[encoded data removed]",
      "text/plain": [
       "<matplotlib.figure.Figure at 0x9ace9e8>"
      ]
     },
     "metadata": {},
     "output_type": "display_data"
    }
   ],
   "source": [
    "# Run a simulation with 8 agents and 5000 interactions\n",
    "\n",
    "initial_population, new_population = simulate(20,5000)\n",
    "\n",
    "print \"The initial population was\", initial_population\n",
    "print \"The new population is\", new_population\n",
    "\n",
    "# Plot the agents' initial and final means\n",
    "\n",
    "%matplotlib inline \n",
    "# put plot in the notebook\n",
    "import matplotlib.pyplot as plt # importing a plotting library\n",
    "\n",
    "initial_means = []\n",
    "final_means = []\n",
    "\n",
    "for agent in range(len(initial_population)):\n",
    "    initial_means.append(initial_population[agent][0])\n",
    "    final_means.append(new_population[agent][0])  \n",
    "\n",
    "\n",
    "plt.hist(initial_means, label='initial means')\n",
    "plt.hist(final_means, label='final means')\n",
    "plt.legend(loc='upper center')\n",
    "plt.show()  "
   ]
  },
  {
   "cell_type": "markdown",
   "metadata": {},
   "source": [
    "In the plot above, the clustering of organge agents shows convergence, while the spread distribution implies divergence.\n",
    "In most simulations, you'll see convergence."
   ]
  },
  {
   "cell_type": "markdown",
   "metadata": {},
   "source": [
    "But since as you've seen, each simulation yields different outcomes in terms of which variant agents have converged on, we need to run multiple simulations and compute their mean to get a more reliable picture of what's happening. So let's make a function that computes the final means of several simulations."
   ]
  },
  {
   "cell_type": "code",
   "execution_count": 127,
   "metadata": {
    "collapsed": true
   },
   "outputs": [],
   "source": [
    "# Create a function to compute the means of the priors in the population\n",
    "\n",
    "def compute_mean(population):\n",
    "    t=0.\n",
    "    for agent in population:\n",
    "        t += agent[0]\n",
    "    return t/len(population)\n",
    "\n",
    "# Create a function that runs multiuple simulations and returns the final mean of each of them\n",
    "\n",
    "def batch_simulate(n,k,s): #n-pop size, k=no. of interactions, s=no. of simulations\n",
    "    batch_final=[]\n",
    "    for i in range(s):\n",
    "        initial_population, new_population = simulate(n, k)\n",
    "        new_proportion=compute_mean(new_population)\n",
    "        batch_final.append(new_proportion)\n",
    "    return batch_final\n",
    "        "
   ]
  },
  {
   "cell_type": "markdown",
   "metadata": {},
   "source": [
    "So what's going on? Let's run some simulations! This might take a few minutes to complete."
   ]
  },
  {
   "cell_type": "code",
   "execution_count": 133,
   "metadata": {},
   "outputs": [
    {
     "data": {
      "text/plain": [
       "(array([   5.,   21.,   46.,   92.,  126.,   88.,   76.,   40.,    4.,    2.]),\n",
       " array([-0.96948663, -0.7618193 , -0.55415198, -0.34648466, -0.13881734,\n",
       "         0.06884998,  0.2765173 ,  0.48418462,  0.69185195,  0.89951927,\n",
       "         1.10718659]),\n",
       " <a list of 10 Patch objects>)"
      ]
     },
     "execution_count": 133,
     "metadata": {},
     "output_type": "execute_result"
    },
    {
     "data": {
      "image/png": "[encoded data removed]",
      "text/plain": [
       "<matplotlib.figure.Figure at 0xc60b518>"
      ]
     },
     "metadata": {},
     "output_type": "display_data"
    }
   ],
   "source": [
    "# Run 500 simulations\n",
    "results = batch_simulate(20,5000,500)\n",
    "\n",
    "# Plot the result\n",
    "plt.hist(results)"
   ]
  },
  {
   "cell_type": "markdown",
   "metadata": {
    "collapsed": true
   },
   "source": [
    "What you can see in the historgram above is that in most simulations, the population converges on the mean between the two prior variants (which is 0). This result is exactly what we expect given prior studies with similar models."
   ]
  },
  {
   "cell_type": "markdown",
   "metadata": {},
   "source": [
    "## Wrapping up\n",
    "So you did it! You finished the tutorial and made a model with more complex agents and complex interactions. "
   ]
  },
  {
   "cell_type": "markdown",
   "metadata": {},
   "source": [
    "Hopefully, now you feel confident enough to change different parts of the code, or add your own new features. "
   ]
  },
  {
   "cell_type": "markdown",
   "metadata": {},
   "source": [
    "Good luck with your model!"
   ]
  },
  {
   "cell_type": "markdown",
   "metadata": {},
   "source": [
    "Bill & Limor"
   ]
  }
 ],
 "metadata": {
  "kernelspec": {
   "display_name": "Python 2",
   "language": "python",
   "name": "python2"
  },
  "language_info": {
   "codemirror_mode": {
    "name": "ipython",
    "version": 2
   },
   "file_extension": ".py",
   "mimetype": "text/x-python",
   "name": "python",
   "nbconvert_exporter": "python",
   "pygments_lexer": "ipython2",
   "version": "2.7.11"
  }
 },
 "nbformat": 4,
 "nbformat_minor": 2
}
